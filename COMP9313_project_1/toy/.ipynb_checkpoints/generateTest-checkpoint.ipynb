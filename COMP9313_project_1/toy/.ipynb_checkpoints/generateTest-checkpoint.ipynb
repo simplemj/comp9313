{
 "cells": [
  {
   "cell_type": "code",
   "execution_count": 1,
   "metadata": {},
   "outputs": [
    {
     "name": "stdout",
     "output_type": "stream",
     "text": [
      "1000000\n",
      "20\n"
     ]
    }
   ],
   "source": [
    "# by Elijah DengDeng\n",
    "\n",
    "import pickle\n",
    "import random\n",
    "\n",
    "Query = [ [0 for _ in range(20)]  for _ in range(20000)]\n",
    "offset10 = [ [random.randint(-10, 10) for _ in range(20)] for _ in range(30000)]\n",
    "offset40 = [[random.randint(10, 40) for _ in range(20)] for _ in range(50000) ]\n",
    "res = Query + offset10 + offset40\n",
    "random.shuffle(res)\n",
    "\n",
    "with open('Queryhash.pkl', 'wb') as file:\n",
    "    pickle.dump( [ 0 for _ in range(20) ], file )\n",
    "\n",
    "with open('test1.pkl', 'wb') as file:\n",
    "    pickle.dump( res, file )\n",
    "\n",
    "\n",
    "Query = [ [0 for _ in range(20)]  for _ in range(20000)]\n",
    "offset10 = [ [random.randint(-10, 10) for _ in range(20)] for _ in range(80000)]\n",
    "offset40 = [[random.randint(10, 40) for _ in range(20)] for _ in range(900000) ]\n",
    "res = Query + offset10 + offset40\n",
    "random.shuffle(res)\n",
    "\n",
    "with open('test2.pkl', 'wb') as file:\n",
    "    pickle.dump( res, file )\n",
    "\n",
    "with open('test2.pkl', 'rb') as file:\n",
    "    showList = pickle.load(file)\n",
    "\n",
    "print( len(showList) )\n",
    "print( len(showList[0]) )\n"
   ]
  },
  {
   "cell_type": "code",
   "execution_count": null,
   "metadata": {},
   "outputs": [],
   "source": []
  }
 ],
 "metadata": {
  "kernelspec": {
   "display_name": "COMP9313",
   "language": "python",
   "name": "comp9313"
  },
  "language_info": {
   "codemirror_mode": {
    "name": "ipython",
    "version": 3
   },
   "file_extension": ".py",
   "mimetype": "text/x-python",
   "name": "python",
   "nbconvert_exporter": "python",
   "pygments_lexer": "ipython3",
   "version": "3.6.5"
  }
 },
 "nbformat": 4,
 "nbformat_minor": 4
}
